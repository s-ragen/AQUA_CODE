{
 "cells": [
  {
   "cell_type": "code",
   "execution_count": 1,
   "metadata": {
    "scrolled": false
   },
   "outputs": [
    {
     "name": "stderr",
     "output_type": "stream",
     "text": [
      "/home/sragen/.conda/envs/aqua/lib/python3.7/site-packages/xarray/coding/times.py:426: SerializationWarning: Unable to decode time axis into full numpy.datetime64 objects, continuing using cftime.datetime objects instead, reason: dates out of range\n",
      "  dtype = _decode_cf_datetime_dtype(data, units, calendar, self.use_cftime)\n",
      "/home/sragen/.conda/envs/aqua/lib/python3.7/site-packages/xarray/coding/times.py:426: SerializationWarning: Unable to decode time axis into full numpy.datetime64 objects, continuing using cftime.datetime objects instead, reason: dates out of range\n",
      "  dtype = _decode_cf_datetime_dtype(data, units, calendar, self.use_cftime)\n"
     ]
    }
   ],
   "source": [
    "import xarray as xr\n",
    "import numpy as np\n",
    "import matplotlib.pyplot as plt\n",
    "import cartopy.crs as ccrs\n",
    "import warnings\n",
    "import gsw\n",
    "\n",
    "\n",
    "#=================================================\n",
    "# Modify paths to point to output files\n",
    "#=================================================\n",
    "# Case name (Straight Coast)\n",
    "case_straight = 'Straight Coast'\n",
    "\n",
    "# path to ocean_annual_z file\n",
    "paths1 = ('/data/sragen/aquaplanet/MASTERS/straight_coast/run/DATA/100yr/19100101.ocean_annual.nc',\n",
    "         '/data/sragen/aquaplanet/MASTERS/straight_coast/run/DATA/200yr/20000101.ocean_annual.nc',\n",
    "         '/data/sragen/aquaplanet/MASTERS/straight_coast/run/DATA/300yr/21000101.ocean_annual.nc',\n",
    "         '/data/sragen/aquaplanet/MASTERS/straight_coast/run/DATA/400yr/22000101.ocean_annual.nc')\n",
    "\n",
    "paths2 = ('/data/sragen/aquaplanet/MASTERS/straight_coast/run/DATA/600yr/24000101.ocean_annual_z.nc',\n",
    "        '/data/sragen/aquaplanet/MASTERS/straight_coast/run/DATA/700yr/25000101.ocean_annual_z.nc',\n",
    "        '/data/sragen/aquaplanet/MASTERS/straight_coast/run/DATA/800yr/26000101.ocean_annual_z.nc',\n",
    "        '/data/sragen/aquaplanet/MASTERS/straight_coast/run/DATA/900yr/27000101.ocean_annual_z.nc')\n",
    "dstraight1 = xr.open_mfdataset(paths1, combine='by_coords')#, concat_dim='time')\n",
    "dstraight2 = xr.open_mfdataset(paths2, combine='by_coords')#, concat_dim='time')\n",
    "\n",
    "\n",
    "# # Case name (Both Coast)\n",
    "case_both = 'Both Coast'\n",
    "\n",
    "# # path to ocean_annual_z file\n",
    "# paths = ('/data/sragen/aquaplanet/MASTERS/both_coast/run/DATA/100yr/19000101.ocean_annual.nc',\n",
    "#          '/data/sragen/aquaplanet/MASTERS/both_coast/run/DATA/200yr/20010101.ocean_annual.nc',\n",
    "#          '/data/sragen/aquaplanet/MASTERS/both_coast/run/DATA/200yr/20910101.ocean_annual.nc',\n",
    "#          '/data/sragen/aquaplanet/MASTERS/both_coast/run/DATA/300yr/21000101.ocean_annual.nc',\n",
    "#          '/data/sragen/aquaplanet/MASTERS/both_coast/run/DATA/300yr/21080101.ocean_annual.nc',\n",
    "#          '/data/sragen/aquaplanet/MASTERS/both_coast/run/DATA/300yr/21160101.ocean_annual.nc',\n",
    "#          '/data/sragen/aquaplanet/MASTERS/both_coast/run/DATA/400yr/22000101.ocean_annual.nc',\n",
    "#          '/data/sragen/aquaplanet/MASTERS/both_coast/run/DATA/500yr/23000101.ocean_annual.nc')\n",
    "# dboth = xr.open_mfdataset(paths, combine='by_coords')\n",
    "# #                           concat_dim='time', decode_times=True)\n",
    "\n",
    "\n",
    "# # Case name (Wide Straight)\n",
    "# case_wide = 'Wide Straight'\n",
    "\n",
    "# # path to ocean_annual_z file\n",
    "# wide_1 = '/data/sragen/aquaplanet/MASTERS/wide_coast/run/DATA/100yr/19000101.ocean_annual_z.nc'\n",
    "# wide_2 = '/data/sragen/aquaplanet/MASTERS/wide_coast/run/DATA/200yr/20000101.ocean_annual_z.nc'\n",
    "# wide_3 = '/data/sragen/aquaplanet/MASTERS/wide_coast/run/DATA/300yr/21000101.ocean_annual_z.nc'\n",
    "# wide_4 = '/data/sragen/aquaplanet/MASTERS/wide_coast/run/DATA/400yr/22000101.ocean_annual_z.nc'\n",
    "# wide_5 = '/data/sragen/aquaplanet/MASTERS/wide_coast/run/DATA/500yr/23030101.ocean_annual_z.nc'\n",
    "# dboth = xr.open_mfdataset(wide_1,\n",
    "#                           wide_2,\n",
    "#                           wide_3,\n",
    "#                           wide_4,\n",
    "#                           wide_5,\n",
    "#                           concat_dim='time', decode_times=True)\n",
    "\n",
    "\n",
    "# # Case name (America Coast)\n",
    "# case_am = 'America Coast'\n",
    "\n",
    "# # path to ocean_annual_z file\n",
    "# path_year_am = '/data/sragen/aquaplanet/MASTERS/am_coast/run/DATA/400yr/22000101.ocean_annual_z.nc'\n",
    "# dy_am = xr.open_dataset(path_year_am, decode_times=True)\n",
    "\n",
    "# # path to ocean_annual_z_rho2 file\n",
    "# path_rho2_am = '/data/sragen/aquaplanet/MASTERS/am_coast/run/DATA/400yr/22000101.ocean_annual_z_rho2.nc'\n",
    "# drho_am = xr.open_dataset(path_rho2_am, decode_times=True)\n",
    "\n",
    "# # path to ocean_annual_z_rho2 file\n",
    "# path_z_am = '/data/sragen/aquaplanet/MASTERS/am_coast/run/DATA/400yr/22000101.ocean_annual_z_z.nc'\n",
    "# dz_am = xr.open_dataset(path_z_am, decode_times=True)\n",
    "\n",
    "# # path to ocean_month file\n",
    "# path_month_am = '/data/sragen/aquaplanet/MASTERS/am_coast/run/DATA/400yr/22000101.ocean_month.nc'\n",
    "# dm_am = xr.open_dataset(path_month_am, decode_times=True)\n",
    "\n",
    "# # path to ice_month file\n",
    "# path_month_am = '/data/sragen/aquaplanet/MASTERS/am_coast/run/DATA/400yr/22000101.ice_month.nc'\n",
    "# di_am = xr.open_dataset(path_month_am, decode_times=True)\n",
    "\n",
    "\n",
    "# # Case name (Africa Coast)\n",
    "# case_af = 'Africa Coast'\n",
    "\n",
    "# # path to ocean_annual_z file\n",
    "# path_year_af = '/data/sragen/aquaplanet/MASTERS/af_coast/run/DATA/400yr/22000101.ocean_annual_z.nc'\n",
    "# dy_af = xr.open_dataset(path_year_af, decode_times=True)\n",
    "\n",
    "# # path to ocean_annual_z_rho2 file\n",
    "# path_rho2_af = '/data/sragen/aquaplanet/MASTERS/af_coast/run/DATA/400yr/22000101.ocean_annual_z_rho2.nc'\n",
    "# drho_af = xr.open_dataset(path_rho2_af, decode_times=True)\n",
    "\n",
    "# # path to ocean_annual_z_z file\n",
    "# path_z_af = '/data/sragen/aquaplanet/MASTERS/af_coast/run/DATA/400yr/22000101.ocean_annual_z_z.nc'\n",
    "# dz_af = xr.open_dataset(path_z_af, decode_times=True)\n",
    "\n",
    "# # path to ocean_month file\n",
    "# path_month_af = '/data/sragen/aquaplanet/MASTERS/af_coast/run/DATA/400yr/22000101.ocean_month.nc'\n",
    "# dm_af = xr.open_dataset(path_month_af, decode_times=True)\n",
    "\n",
    "# # path to ice_month file\n",
    "# path_month_af = '/data/sragen/aquaplanet/MASTERS/af_coast/run/DATA/400yr/22000101.ice_month.nc'\n",
    "# di_af = xr.open_dataset(path_month_af, decode_times=True)\n",
    "\n",
    "#=================================================\n",
    "# Ignore runtime warnings: mean of empty slice\n",
    "#=================================================\n",
    "warnings.filterwarnings(\"ignore\", message=\"Mean of empty slice\")\n",
    "\n",
    "#=================================================\n",
    "# Modify latitudes to point to western and eastern\n",
    "# boundaries of small basin and northern extent of SO.\n",
    "# Comment out for AQUA and RIDGE cases. \n",
    "#=================================================\n",
    "x_west = np.where(dstraight1['xh']==211)[0][0]\n",
    "x_east = np.where(dstraight1['xh']==351)[0][0]\n",
    "y = np.where(dstraight1['yq']==-35)[0][0]\n",
    "y_south = np.where(dstraight1['yq']==-71)[0][0]\n",
    "y_north = np.where(dstraight1['yq']==71)[0][0]\n",
    "\n"
   ]
  },
  {
   "cell_type": "code",
   "execution_count": 6,
   "metadata": {
    "scrolled": true
   },
   "outputs": [],
   "source": [
    "def calculate_lat_sfn(vmo, vhGM, x_west, x_east, y):\n",
    "#     vmo_slice = vmo.isel(time=slice(-31,-1)).mean(dim='time')\n",
    "#     vhGM_slice = vhGM.isel(time=slice(-31,-1)).mean(dim='time')\n",
    "#     vmo_slice = vmo.mean(dim='time')\n",
    "#     vhGM_slice = vhGM.mean(dim='time')\n",
    "#     sfn_basin_resmean = (vmo_slice[:,y:x_east]/1035).sum(dim='xh').cumsum(dim='zl')/(1e6)\n",
    "#     sfn_basin_res = (vhGM_slice[:,y,x_west:x_east]/1035).sum(dim='xh').cumsum(dim='zl')/(1e6)\n",
    "    sfn_basin_resmean = (vmo[:,:,y,x_west:x_east]/1035).sum(dim='xh').cumsum(dim='zl')/(1e6)\n",
    "    sfn_basin_res = (vhGM[:,:,y,x_west:x_east]/1035).sum(dim='xh').cumsum(dim='zl')/(1e6)\n",
    "    sfn_basin_mean = sfn_basin_resmean - sfn_basin_res\n",
    "    return sfn_basin_resmean\n",
    "\n",
    "def calculate_lat_sfn_z(vmo, vhGM, x_west, x_east, y):\n",
    "#     vmo_slice = vmo.isel(time=slice(-31,-1)).mean(dim='time')\n",
    "#     vhGM_slice = vhGM.isel(time=slice(-31,-1)).mean(dim='time')\n",
    "#     vmo_slice = vmo.mean(dim='time')\n",
    "#     vhGM_slice = vhGM.mean(dim='time')\n",
    "#     sfn_basin_resmean = (vmo_slice[:,y:x_east]/1035).sum(dim='xh').cumsum(dim='zl')/(1e6)\n",
    "#     sfn_basin_res = (vhGM_slice[:,y,x_west:x_east]/1035).sum(dim='xh').cumsum(dim='zl')/(1e6)\n",
    "    sfn_basin_resmean = (vmo[:,:,y,x_west:x_east]/1035).sum(dim='xh').cumsum(dim='z_l')/(1e6)\n",
    "    sfn_basin_res = (vhGM[:,:,y,x_west:x_east]/1035).sum(dim='xh').cumsum(dim='z_l')/(1e6)\n",
    "    sfn_basin_mean = sfn_basin_resmean - sfn_basin_res\n",
    "    return sfn_basin_resmean\n",
    "\n"
   ]
  },
  {
   "cell_type": "code",
   "execution_count": 18,
   "metadata": {},
   "outputs": [
    {
     "data": {
      "image/png": "[encoded data removed]",
      "text/plain": [
       "<Figure size 648x288 with 2 Axes>"
      ]
     },
     "metadata": {
      "needs_background": "light"
     },
     "output_type": "display_data"
    }
   ],
   "source": [
    "vmo1 = dstraight1.vmo\n",
    "vhGM1 = dstraight1.vhGM\n",
    "y45 = np.where(dstraight1['yq']==45)[0][0]\n",
    "\n",
    "sfn_basin_resmean1 = calculate_lat_sfn(vmo1, vhGM1, x_west, x_east, y45)\n",
    "\n",
    "max_sfn1 = sfn_basin_resmean1.max(dim='zl')\n",
    "\n",
    "vmo2 = dstraight2.vmo\n",
    "vhGM2 = dstraight2.vhGM\n",
    "y45 = np.where(dstraight2['yq']==45)[0][0]\n",
    "\n",
    "sfn_basin_resmean2 = calculate_lat_sfn_z(vmo2, vhGM2, x_west, x_east, y45)\n",
    "\n",
    "max_sfn2 = sfn_basin_resmean2.max(dim='z_l')\n",
    "\n",
    "fig, (ax1, ax2) = plt.subplots(1, 2, figsize=(9,4), sharey=True)\n",
    "\n",
    "ax1.plot(max_sfn1)\n",
    "ax2.plot(np.linspace(500,900,400), max_sfn2)\n",
    "# ax2.set_ylim([5,55])\n",
    "plt.show()"
   ]
  },
  {
   "cell_type": "code",
   "execution_count": 9,
   "metadata": {
    "scrolled": false
   },
   "outputs": [
    {
     "ename": "NameError",
     "evalue": "name 'drho_straight' is not defined",
     "output_type": "error",
     "traceback": [
      "\u001b[0;31m---------------------------------------------------------------------------\u001b[0m",
      "\u001b[0;31mNameError\u001b[0m                                 Traceback (most recent call last)",
      "\u001b[0;32m<ipython-input-9-64edf60b25e3>\u001b[0m in \u001b[0;36m<module>\u001b[0;34m\u001b[0m\n\u001b[1;32m      1\u001b[0m \u001b[0mmax_sfn_basin_resmean\u001b[0m \u001b[0;34m=\u001b[0m \u001b[0;34m[\u001b[0m\u001b[0;34m]\u001b[0m\u001b[0;34m\u001b[0m\u001b[0;34m\u001b[0m\u001b[0m\n\u001b[1;32m      2\u001b[0m \u001b[0;34m\u001b[0m\u001b[0m\n\u001b[0;32m----> 3\u001b[0;31m \u001b[0;32mfor\u001b[0m \u001b[0mi\u001b[0m \u001b[0;32min\u001b[0m \u001b[0mrange\u001b[0m\u001b[0;34m(\u001b[0m\u001b[0mlen\u001b[0m\u001b[0;34m(\u001b[0m\u001b[0mdrho_straight\u001b[0m\u001b[0;34m.\u001b[0m\u001b[0mtime\u001b[0m\u001b[0;34m)\u001b[0m\u001b[0;34m)\u001b[0m\u001b[0;34m:\u001b[0m\u001b[0;34m\u001b[0m\u001b[0;34m\u001b[0m\u001b[0m\n\u001b[0m\u001b[1;32m      4\u001b[0m \u001b[0;31m#     max_sfn = max_sfn_yearly(sfn_basin_resmean[i], drho_straight)\u001b[0m\u001b[0;34m\u001b[0m\u001b[0;34m\u001b[0m\u001b[0;34m\u001b[0m\u001b[0m\n\u001b[1;32m      5\u001b[0m     \u001b[0mmax_sfn\u001b[0m \u001b[0;34m=\u001b[0m \u001b[0msfn_basin_resmean\u001b[0m\u001b[0;34m[\u001b[0m\u001b[0mi\u001b[0m\u001b[0;34m]\u001b[0m\u001b[0;34m[\u001b[0m\u001b[0;34m:\u001b[0m\u001b[0;34m,\u001b[0m\u001b[0;36m0\u001b[0m\u001b[0;34m:\u001b[0m\u001b[0;36m30\u001b[0m\u001b[0;34m]\u001b[0m\u001b[0;34m.\u001b[0m\u001b[0mmax\u001b[0m\u001b[0;34m(\u001b[0m\u001b[0;34m)\u001b[0m\u001b[0;34m\u001b[0m\u001b[0;34m\u001b[0m\u001b[0m\n",
      "\u001b[0;31mNameError\u001b[0m: name 'drho_straight' is not defined"
     ]
    }
   ],
   "source": [
    "max_sfn_basin_resmean = []\n",
    "\n",
    "for i in range(len(drho_straight.time)):\n",
    "#     max_sfn = max_sfn_yearly(sfn_basin_resmean[i], drho_straight)\n",
    "    max_sfn = sfn_basin_resmean[i][:,0:30].max()\n",
    "    max_sfn_basin_resmean.append(max_sfn)\n",
    "max_sfn_basin_resmean"
   ]
  },
  {
   "cell_type": "code",
   "execution_count": null,
   "metadata": {
    "scrolled": false
   },
   "outputs": [],
   "source": [
    "sfn_basin_resmean[0][25:,0:49]"
   ]
  },
  {
   "cell_type": "code",
   "execution_count": null,
   "metadata": {},
   "outputs": [],
   "source": []
  }
 ],
 "metadata": {
  "kernelspec": {
   "display_name": "Python 3",
   "language": "python",
   "name": "python3"
  },
  "language_info": {
   "codemirror_mode": {
    "name": "ipython",
    "version": 3
   },
   "file_extension": ".py",
   "mimetype": "text/x-python",
   "name": "python",
   "nbconvert_exporter": "python",
   "pygments_lexer": "ipython3",
   "version": "3.7.6"
  }
 },
 "nbformat": 4,
 "nbformat_minor": 2
}
