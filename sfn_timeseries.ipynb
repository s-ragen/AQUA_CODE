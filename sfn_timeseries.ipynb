{
 "cells": [
  {
   "cell_type": "code",
   "execution_count": 3,
   "metadata": {
    "scrolled": false
   },
   "outputs": [
    {
     "name": "stderr",
     "output_type": "stream",
     "text": [
      "/home/sragen/.conda/envs/aqua/lib/python3.7/site-packages/xarray/coding/times.py:426: SerializationWarning: Unable to decode time axis into full numpy.datetime64 objects, continuing using cftime.datetime objects instead, reason: dates out of range\n",
      "  dtype = _decode_cf_datetime_dtype(data, units, calendar, self.use_cftime)\n"
     ]
    }
   ],
   "source": [
    "import xarray as xr\n",
    "import numpy as np\n",
    "import matplotlib.pyplot as plt\n",
    "import cartopy.crs as ccrs\n",
    "import warnings\n",
    "import gsw\n",
    "\n",
    "\n",
    "#=================================================\n",
    "# Modify paths to point to output files\n",
    "#=================================================\n",
    "# Case name (Straight Coast)\n",
    "case_straight = 'Straight Coast'\n",
    "\n",
    "# path to ocean_annual_z file\n",
    "paths = ('/data/sragen/aquaplanet/MASTERS/straight_coast/run/DATA/100yr/19100101.ocean_annual.nc',\n",
    "         '/data/sragen/aquaplanet/MASTERS/straight_coast/run/DATA/200yr/20000101.ocean_annual.nc',\n",
    "         '/data/sragen/aquaplanet/MASTERS/straight_coast/run/DATA/300yr/21000101.ocean_annual.nc',\n",
    "         '/data/sragen/aquaplanet/MASTERS/straight_coast/run/DATA/400yr/22000101.ocean_annual.nc')\n",
    "         #'/data/sragen/aquaplanet/MASTERS/straight_coast/run/DATA/500yr/23030101.ocean_annual.nc')\n",
    "dstraight = xr.open_mfdataset(paths, combine='by_coords')#, concat_dim='time')\n",
    "\n",
    "\n",
    "\n",
    "# # Case name (Both Coast)\n",
    "case_both = 'Both Coast'\n",
    "\n",
    "# # path to ocean_annual_z file\n",
    "# paths = ('/data/sragen/aquaplanet/MASTERS/both_coast/run/DATA/100yr/19000101.ocean_annual.nc',\n",
    "#          '/data/sragen/aquaplanet/MASTERS/both_coast/run/DATA/200yr/20010101.ocean_annual.nc',\n",
    "#          '/data/sragen/aquaplanet/MASTERS/both_coast/run/DATA/200yr/20910101.ocean_annual.nc',\n",
    "#          '/data/sragen/aquaplanet/MASTERS/both_coast/run/DATA/300yr/21000101.ocean_annual.nc',\n",
    "#          '/data/sragen/aquaplanet/MASTERS/both_coast/run/DATA/300yr/21080101.ocean_annual.nc',\n",
    "#          '/data/sragen/aquaplanet/MASTERS/both_coast/run/DATA/300yr/21160101.ocean_annual.nc',\n",
    "#          '/data/sragen/aquaplanet/MASTERS/both_coast/run/DATA/400yr/22000101.ocean_annual.nc',\n",
    "#          '/data/sragen/aquaplanet/MASTERS/both_coast/run/DATA/500yr/23000101.ocean_annual.nc')\n",
    "# dboth = xr.open_mfdataset(paths, combine='by_coords')\n",
    "# #                           concat_dim='time', decode_times=True)\n",
    "\n",
    "\n",
    "# # Case name (Wide Straight)\n",
    "# case_wide = 'Wide Straight'\n",
    "\n",
    "# # path to ocean_annual_z file\n",
    "# wide_1 = '/data/sragen/aquaplanet/MASTERS/wide_coast/run/DATA/100yr/19000101.ocean_annual_z.nc'\n",
    "# wide_2 = '/data/sragen/aquaplanet/MASTERS/wide_coast/run/DATA/200yr/20000101.ocean_annual_z.nc'\n",
    "# wide_3 = '/data/sragen/aquaplanet/MASTERS/wide_coast/run/DATA/300yr/21000101.ocean_annual_z.nc'\n",
    "# wide_4 = '/data/sragen/aquaplanet/MASTERS/wide_coast/run/DATA/400yr/22000101.ocean_annual_z.nc'\n",
    "# wide_5 = '/data/sragen/aquaplanet/MASTERS/wide_coast/run/DATA/500yr/23030101.ocean_annual_z.nc'\n",
    "# dboth = xr.open_mfdataset(wide_1,\n",
    "#                           wide_2,\n",
    "#                           wide_3,\n",
    "#                           wide_4,\n",
    "#                           wide_5,\n",
    "#                           concat_dim='time', decode_times=True)\n",
    "\n",
    "\n",
    "# # Case name (America Coast)\n",
    "# case_am = 'America Coast'\n",
    "\n",
    "# # path to ocean_annual_z file\n",
    "# path_year_am = '/data/sragen/aquaplanet/MASTERS/am_coast/run/DATA/400yr/22000101.ocean_annual_z.nc'\n",
    "# dy_am = xr.open_dataset(path_year_am, decode_times=True)\n",
    "\n",
    "# # path to ocean_annual_z_rho2 file\n",
    "# path_rho2_am = '/data/sragen/aquaplanet/MASTERS/am_coast/run/DATA/400yr/22000101.ocean_annual_z_rho2.nc'\n",
    "# drho_am = xr.open_dataset(path_rho2_am, decode_times=True)\n",
    "\n",
    "# # path to ocean_annual_z_rho2 file\n",
    "# path_z_am = '/data/sragen/aquaplanet/MASTERS/am_coast/run/DATA/400yr/22000101.ocean_annual_z_z.nc'\n",
    "# dz_am = xr.open_dataset(path_z_am, decode_times=True)\n",
    "\n",
    "# # path to ocean_month file\n",
    "# path_month_am = '/data/sragen/aquaplanet/MASTERS/am_coast/run/DATA/400yr/22000101.ocean_month.nc'\n",
    "# dm_am = xr.open_dataset(path_month_am, decode_times=True)\n",
    "\n",
    "# # path to ice_month file\n",
    "# path_month_am = '/data/sragen/aquaplanet/MASTERS/am_coast/run/DATA/400yr/22000101.ice_month.nc'\n",
    "# di_am = xr.open_dataset(path_month_am, decode_times=True)\n",
    "\n",
    "\n",
    "# # Case name (Africa Coast)\n",
    "# case_af = 'Africa Coast'\n",
    "\n",
    "# # path to ocean_annual_z file\n",
    "# path_year_af = '/data/sragen/aquaplanet/MASTERS/af_coast/run/DATA/400yr/22000101.ocean_annual_z.nc'\n",
    "# dy_af = xr.open_dataset(path_year_af, decode_times=True)\n",
    "\n",
    "# # path to ocean_annual_z_rho2 file\n",
    "# path_rho2_af = '/data/sragen/aquaplanet/MASTERS/af_coast/run/DATA/400yr/22000101.ocean_annual_z_rho2.nc'\n",
    "# drho_af = xr.open_dataset(path_rho2_af, decode_times=True)\n",
    "\n",
    "# # path to ocean_annual_z_z file\n",
    "# path_z_af = '/data/sragen/aquaplanet/MASTERS/af_coast/run/DATA/400yr/22000101.ocean_annual_z_z.nc'\n",
    "# dz_af = xr.open_dataset(path_z_af, decode_times=True)\n",
    "\n",
    "# # path to ocean_month file\n",
    "# path_month_af = '/data/sragen/aquaplanet/MASTERS/af_coast/run/DATA/400yr/22000101.ocean_month.nc'\n",
    "# dm_af = xr.open_dataset(path_month_af, decode_times=True)\n",
    "\n",
    "# # path to ice_month file\n",
    "# path_month_af = '/data/sragen/aquaplanet/MASTERS/af_coast/run/DATA/400yr/22000101.ice_month.nc'\n",
    "# di_af = xr.open_dataset(path_month_af, decode_times=True)\n",
    "\n",
    "#=================================================\n",
    "# Ignore runtime warnings: mean of empty slice\n",
    "#=================================================\n",
    "warnings.filterwarnings(\"ignore\", message=\"Mean of empty slice\")\n",
    "\n",
    "#=================================================\n",
    "# Modify latitudes to point to western and eastern\n",
    "# boundaries of small basin and northern extent of SO.\n",
    "# Comment out for AQUA and RIDGE cases. \n",
    "#=================================================\n",
    "x_west = np.where(dstraight['xh']==211)[0][0]\n",
    "x_east = np.where(dstraight['xh']==351)[0][0]\n",
    "y = np.where(dstraight['yq']==-35)[0][0]\n",
    "y_south = np.where(dstraight['yq']==-71)[0][0]\n",
    "y_north = np.where(dstraight['yq']==71)[0][0]\n",
    "\n"
   ]
  },
  {
   "cell_type": "code",
   "execution_count": 20,
   "metadata": {
    "scrolled": true
   },
   "outputs": [],
   "source": [
    "def calculate_lat_sfn(vmo, vhGM, x_west, x_east, y):\n",
    "#     vmo_slice = vmo.isel(time=slice(-31,-1)).mean(dim='time')\n",
    "#     vhGM_slice = vhGM.isel(time=slice(-31,-1)).mean(dim='time')\n",
    "#     vmo_slice = vmo.mean(dim='time')\n",
    "#     vhGM_slice = vhGM.mean(dim='time')\n",
    "#     sfn_basin_resmean = (vmo_slice[:,y:x_east]/1035).sum(dim='xh').cumsum(dim='zl')/(1e6)\n",
    "#     sfn_basin_res = (vhGM_slice[:,y,x_west:x_east]/1035).sum(dim='xh').cumsum(dim='zl')/(1e6)\n",
    "    sfn_basin_resmean = (vmo[:,:,y,x_west:x_east]/1035).sum(dim='xh').cumsum(dim='zl')/(1e6)\n",
    "    sfn_basin_res = (vhGM[:,:,y,x_west:x_east]/1035).sum(dim='xh').cumsum(dim='zl')/(1e6)\n",
    "    sfn_basin_mean = sfn_basin_resmean - sfn_basin_res\n",
    "    return sfn_basin_resmean\n",
    "\n"
   ]
  },
  {
   "cell_type": "code",
   "execution_count": 22,
   "metadata": {},
   "outputs": [
    {
     "data": {
      "image/png": "[encoded data removed]",
      "text/plain": [
       "<Figure size 432x288 with 1 Axes>"
      ]
     },
     "metadata": {
      "needs_background": "light"
     },
     "output_type": "display_data"
    }
   ],
   "source": [
    "vmo = dstraight.vmo\n",
    "vhGM = dstraight.vhGM\n",
    "y45 = np.where(dstraight['yq']==45)[0][0]\n",
    "\n",
    "sfn_basin_resmean = calculate_lat_sfn(vmo, vhGM, x_west, x_east, y45)\n",
    "\n",
    "max_sfn = sfn_basin_resmean.max(dim='zl')\n",
    "max_sfn\n",
    "plt.plot(max_sfn)\n",
    "plt.show()"
   ]
  },
  {
   "cell_type": "code",
   "execution_count": null,
   "metadata": {
    "scrolled": false
   },
   "outputs": [],
   "source": [
    "max_sfn_basin_resmean = []\n",
    "\n",
    "for i in range(len(drho_straight.time)):\n",
    "#     max_sfn = max_sfn_yearly(sfn_basin_resmean[i], drho_straight)\n",
    "    max_sfn = sfn_basin_resmean[i][:,0:30].max()\n",
    "    max_sfn_basin_resmean.append(max_sfn)\n",
    "max_sfn_basin_resmean"
   ]
  },
  {
   "cell_type": "code",
   "execution_count": null,
   "metadata": {
    "scrolled": false
   },
   "outputs": [],
   "source": [
    "sfn_basin_resmean[0][25:,0:49]"
   ]
  },
  {
   "cell_type": "code",
   "execution_count": null,
   "metadata": {},
   "outputs": [],
   "source": []
  }
 ],
 "metadata": {
  "kernelspec": {
   "display_name": "Python 3",
   "language": "python",
   "name": "python3"
  }
 },
 "nbformat": 4,
 "nbformat_minor": 2
}
