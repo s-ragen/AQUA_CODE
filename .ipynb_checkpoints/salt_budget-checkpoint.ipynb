{
 "cells": [
  {
   "cell_type": "code",
   "execution_count": 3,
   "metadata": {},
   "outputs": [
    {
     "name": "stderr",
     "output_type": "stream",
     "text": [
      "/home/sragen/.conda/envs/aqua/lib/python3.7/site-packages/xarray/coding/times.py:426: SerializationWarning: Unable to decode time axis into full numpy.datetime64 objects, continuing using cftime.datetime objects instead, reason: dates out of range\n",
      "  dtype = _decode_cf_datetime_dtype(data, units, calendar, self.use_cftime)\n"
     ]
    }
   ],
   "source": [
    "import xarray as xr\n",
    "import numpy as np\n",
    "import matplotlib.pyplot as plt\n",
    "import cartopy.crs as ccrs\n",
    "import warnings\n",
    "\n",
    "\n",
    "#=================================================\n",
    "# Modify paths to point to output files\n",
    "#=================================================\n",
    "# Case name (Wide Straight)\n",
    "case_wide = 'Wide Straight'\n",
    "\n",
    "# path to ocean_annual file\n",
    "path_year_wide = '/data/sragen/aquaplanet/MASTERS/wide_straight/run/28000101.ocean_annual.nc'\n",
    "dy_wide = xr.open_dataset(path_year_wide, decode_times=True)\n",
    "# static_wide = xr.open_dataset('/data/sragen/aquaplanet/MASTERS/wide_straight/run/28000101.ocean_static.nc', \n",
    "#                               decode_times=True)\n",
    "\n",
    "#=================================================\n",
    "# Modify latitudes to point to western and eastern\n",
    "# boundaries of small basin and northern extent of SO.\n",
    "# Comment out for AQUA and RIDGE cases. \n",
    "#=================================================\n",
    "x_west = np.where(dy_wide['xh']==211)[0][0]\n",
    "x_east = np.where(dy_wide['xh']==351)[0][0]\n",
    "y = np.where(dy_wide['yq']==-35)[0][0]\n",
    "y_south = np.where(dy_wide['yq']==-71)[0][0]\n",
    "y_north = np.where(dy_wide['yq']==71)[0][0]\n"
   ]
  },
  {
   "cell_type": "markdown",
   "metadata": {},
   "source": [
    "Salt Budget\n",
    "\n",
    "Sh_tendency_2d = S_advection_xy_2d + S_dfxy_cont_tendency_2d + boundary_forcing_salt_tendency_2d\n",
    "\n",
    "Or something..."
   ]
  },
  {
   "cell_type": "code",
   "execution_count": 6,
   "metadata": {},
   "outputs": [
    {
     "ename": "ValueError",
     "evalue": "dimensions {'time'} do not exist",
     "output_type": "error",
     "traceback": [
      "\u001b[0;31m---------------------------------------------------------------------------\u001b[0m",
      "\u001b[0;31mValueError\u001b[0m                                Traceback (most recent call last)",
      "\u001b[0;32m<ipython-input-6-08c3ab5f641e>\u001b[0m in \u001b[0;36m<module>\u001b[0;34m\u001b[0m\n\u001b[1;32m      1\u001b[0m \u001b[0;31m# temporarily limiting time, since it's still running as I'm trying this\u001b[0m\u001b[0;34m\u001b[0m\u001b[0;34m\u001b[0m\u001b[0;34m\u001b[0m\u001b[0m\n\u001b[1;32m      2\u001b[0m \u001b[0;34m\u001b[0m\u001b[0m\n\u001b[0;32m----> 3\u001b[0;31m \u001b[0mdx\u001b[0m \u001b[0;34m=\u001b[0m \u001b[0mdy_wide\u001b[0m\u001b[0;34m.\u001b[0m\u001b[0mxh\u001b[0m\u001b[0;34m.\u001b[0m\u001b[0misel\u001b[0m\u001b[0;34m(\u001b[0m\u001b[0mtime\u001b[0m\u001b[0;34m=\u001b[0m\u001b[0mslice\u001b[0m\u001b[0;34m(\u001b[0m\u001b[0;36m0\u001b[0m\u001b[0;34m,\u001b[0m\u001b[0;36m2\u001b[0m\u001b[0;34m)\u001b[0m\u001b[0;34m)\u001b[0m\u001b[0;34m.\u001b[0m\u001b[0msel\u001b[0m\u001b[0;34m(\u001b[0m\u001b[0mxh\u001b[0m\u001b[0;34m=\u001b[0m\u001b[0mslice\u001b[0m\u001b[0;34m(\u001b[0m\u001b[0;36m211\u001b[0m\u001b[0;34m,\u001b[0m\u001b[0;36m360\u001b[0m\u001b[0;34m)\u001b[0m\u001b[0;34m)\u001b[0m\u001b[0;34m.\u001b[0m\u001b[0mdiff\u001b[0m\u001b[0;34m(\u001b[0m\u001b[0mdim\u001b[0m\u001b[0;34m=\u001b[0m\u001b[0;34m'xh'\u001b[0m\u001b[0;34m)\u001b[0m\u001b[0;34m*\u001b[0m\u001b[0;36m111000\u001b[0m\u001b[0;34m\u001b[0m\u001b[0;34m\u001b[0m\u001b[0m\n\u001b[0m\u001b[1;32m      4\u001b[0m \u001b[0mdy\u001b[0m \u001b[0;34m=\u001b[0m \u001b[0mdy_wide\u001b[0m\u001b[0;34m.\u001b[0m\u001b[0myh\u001b[0m\u001b[0;34m.\u001b[0m\u001b[0misel\u001b[0m\u001b[0;34m(\u001b[0m\u001b[0mtime\u001b[0m\u001b[0;34m=\u001b[0m\u001b[0mslice\u001b[0m\u001b[0;34m(\u001b[0m\u001b[0;36m0\u001b[0m\u001b[0;34m,\u001b[0m\u001b[0;36m2\u001b[0m\u001b[0;34m)\u001b[0m\u001b[0;34m)\u001b[0m\u001b[0;34m.\u001b[0m\u001b[0msel\u001b[0m\u001b[0;34m(\u001b[0m\u001b[0myh\u001b[0m\u001b[0;34m=\u001b[0m\u001b[0mslice\u001b[0m\u001b[0;34m(\u001b[0m\u001b[0;34m-\u001b[0m\u001b[0;36m30\u001b[0m\u001b[0;34m,\u001b[0m\u001b[0;36m71\u001b[0m\u001b[0;34m)\u001b[0m\u001b[0;34m)\u001b[0m\u001b[0;34m.\u001b[0m\u001b[0mdiff\u001b[0m\u001b[0;34m(\u001b[0m\u001b[0mdim\u001b[0m\u001b[0;34m=\u001b[0m\u001b[0;34m'yh'\u001b[0m\u001b[0;34m)\u001b[0m\u001b[0;34m*\u001b[0m\u001b[0mnp\u001b[0m\u001b[0;34m.\u001b[0m\u001b[0mcos\u001b[0m\u001b[0;34m(\u001b[0m\u001b[0mnp\u001b[0m\u001b[0;34m.\u001b[0m\u001b[0mdeg2rad\u001b[0m\u001b[0;34m(\u001b[0m\u001b[0mdy_wide\u001b[0m\u001b[0;34m.\u001b[0m\u001b[0myh\u001b[0m\u001b[0;34m.\u001b[0m\u001b[0msel\u001b[0m\u001b[0;34m(\u001b[0m\u001b[0myh\u001b[0m\u001b[0;34m=\u001b[0m\u001b[0mslice\u001b[0m\u001b[0;34m(\u001b[0m\u001b[0;34m-\u001b[0m\u001b[0;36m30\u001b[0m\u001b[0;34m,\u001b[0m\u001b[0;36m71\u001b[0m\u001b[0;34m)\u001b[0m\u001b[0;34m)\u001b[0m\u001b[0;34m)\u001b[0m\u001b[0;34m)\u001b[0m\u001b[0;34m*\u001b[0m\u001b[0;36m111000\u001b[0m\u001b[0;34m\u001b[0m\u001b[0;34m\u001b[0m\u001b[0m\n\u001b[1;32m      5\u001b[0m \u001b[0;34m\u001b[0m\u001b[0m\n",
      "\u001b[0;32m~/.conda/envs/aqua/lib/python3.7/site-packages/xarray/core/dataarray.py\u001b[0m in \u001b[0;36misel\u001b[0;34m(self, indexers, drop, **indexers_kwargs)\u001b[0m\n\u001b[1;32m   1012\u001b[0m         \"\"\"\n\u001b[1;32m   1013\u001b[0m         \u001b[0mindexers\u001b[0m \u001b[0;34m=\u001b[0m \u001b[0meither_dict_or_kwargs\u001b[0m\u001b[0;34m(\u001b[0m\u001b[0mindexers\u001b[0m\u001b[0;34m,\u001b[0m \u001b[0mindexers_kwargs\u001b[0m\u001b[0;34m,\u001b[0m \u001b[0;34m\"isel\"\u001b[0m\u001b[0;34m)\u001b[0m\u001b[0;34m\u001b[0m\u001b[0;34m\u001b[0m\u001b[0m\n\u001b[0;32m-> 1014\u001b[0;31m         \u001b[0mds\u001b[0m \u001b[0;34m=\u001b[0m \u001b[0mself\u001b[0m\u001b[0;34m.\u001b[0m\u001b[0m_to_temp_dataset\u001b[0m\u001b[0;34m(\u001b[0m\u001b[0;34m)\u001b[0m\u001b[0;34m.\u001b[0m\u001b[0misel\u001b[0m\u001b[0;34m(\u001b[0m\u001b[0mdrop\u001b[0m\u001b[0;34m=\u001b[0m\u001b[0mdrop\u001b[0m\u001b[0;34m,\u001b[0m \u001b[0mindexers\u001b[0m\u001b[0;34m=\u001b[0m\u001b[0mindexers\u001b[0m\u001b[0;34m)\u001b[0m\u001b[0;34m\u001b[0m\u001b[0;34m\u001b[0m\u001b[0m\n\u001b[0m\u001b[1;32m   1015\u001b[0m         \u001b[0;32mreturn\u001b[0m \u001b[0mself\u001b[0m\u001b[0;34m.\u001b[0m\u001b[0m_from_temp_dataset\u001b[0m\u001b[0;34m(\u001b[0m\u001b[0mds\u001b[0m\u001b[0;34m)\u001b[0m\u001b[0;34m\u001b[0m\u001b[0;34m\u001b[0m\u001b[0m\n\u001b[1;32m   1016\u001b[0m \u001b[0;34m\u001b[0m\u001b[0m\n",
      "\u001b[0;32m~/.conda/envs/aqua/lib/python3.7/site-packages/xarray/core/dataset.py\u001b[0m in \u001b[0;36misel\u001b[0;34m(self, indexers, drop, **indexers_kwargs)\u001b[0m\n\u001b[1;32m   1908\u001b[0m         \u001b[0;31m# Note: we need to preserve the original indexers variable in order to merge the\u001b[0m\u001b[0;34m\u001b[0m\u001b[0;34m\u001b[0m\u001b[0;34m\u001b[0m\u001b[0m\n\u001b[1;32m   1909\u001b[0m         \u001b[0;31m# coords below\u001b[0m\u001b[0;34m\u001b[0m\u001b[0;34m\u001b[0m\u001b[0;34m\u001b[0m\u001b[0m\n\u001b[0;32m-> 1910\u001b[0;31m         \u001b[0mindexers_list\u001b[0m \u001b[0;34m=\u001b[0m \u001b[0mlist\u001b[0m\u001b[0;34m(\u001b[0m\u001b[0mself\u001b[0m\u001b[0;34m.\u001b[0m\u001b[0m_validate_indexers\u001b[0m\u001b[0;34m(\u001b[0m\u001b[0mindexers\u001b[0m\u001b[0;34m)\u001b[0m\u001b[0;34m)\u001b[0m\u001b[0;34m\u001b[0m\u001b[0;34m\u001b[0m\u001b[0m\n\u001b[0m\u001b[1;32m   1911\u001b[0m \u001b[0;34m\u001b[0m\u001b[0m\n\u001b[1;32m   1912\u001b[0m         \u001b[0mvariables\u001b[0m\u001b[0;34m:\u001b[0m \u001b[0mDict\u001b[0m\u001b[0;34m[\u001b[0m\u001b[0mHashable\u001b[0m\u001b[0;34m,\u001b[0m \u001b[0mVariable\u001b[0m\u001b[0;34m]\u001b[0m \u001b[0;34m=\u001b[0m \u001b[0;34m{\u001b[0m\u001b[0;34m}\u001b[0m\u001b[0;34m\u001b[0m\u001b[0;34m\u001b[0m\u001b[0m\n",
      "\u001b[0;32m~/.conda/envs/aqua/lib/python3.7/site-packages/xarray/core/dataset.py\u001b[0m in \u001b[0;36m_validate_indexers\u001b[0;34m(self, indexers)\u001b[0m\n\u001b[1;32m   1768\u001b[0m         \u001b[0minvalid\u001b[0m \u001b[0;34m=\u001b[0m \u001b[0mindexers\u001b[0m\u001b[0;34m.\u001b[0m\u001b[0mkeys\u001b[0m\u001b[0;34m(\u001b[0m\u001b[0;34m)\u001b[0m \u001b[0;34m-\u001b[0m \u001b[0mself\u001b[0m\u001b[0;34m.\u001b[0m\u001b[0mdims\u001b[0m\u001b[0;34m.\u001b[0m\u001b[0mkeys\u001b[0m\u001b[0;34m(\u001b[0m\u001b[0;34m)\u001b[0m\u001b[0;34m\u001b[0m\u001b[0;34m\u001b[0m\u001b[0m\n\u001b[1;32m   1769\u001b[0m         \u001b[0;32mif\u001b[0m \u001b[0minvalid\u001b[0m\u001b[0;34m:\u001b[0m\u001b[0;34m\u001b[0m\u001b[0;34m\u001b[0m\u001b[0m\n\u001b[0;32m-> 1770\u001b[0;31m             \u001b[0;32mraise\u001b[0m \u001b[0mValueError\u001b[0m\u001b[0;34m(\u001b[0m\u001b[0;34m\"dimensions %r do not exist\"\u001b[0m \u001b[0;34m%\u001b[0m \u001b[0minvalid\u001b[0m\u001b[0;34m)\u001b[0m\u001b[0;34m\u001b[0m\u001b[0;34m\u001b[0m\u001b[0m\n\u001b[0m\u001b[1;32m   1771\u001b[0m \u001b[0;34m\u001b[0m\u001b[0m\n\u001b[1;32m   1772\u001b[0m         \u001b[0;31m# all indexers should be int, slice, np.ndarrays, or Variable\u001b[0m\u001b[0;34m\u001b[0m\u001b[0;34m\u001b[0m\u001b[0;34m\u001b[0m\u001b[0m\n",
      "\u001b[0;31mValueError\u001b[0m: dimensions {'time'} do not exist"
     ]
    }
   ],
   "source": [
    "# temporarily limiting time, since it's still running as I'm trying this\n",
    "\n",
    "dx = dy_wide.xh.sel(xh=slice(211,360)).diff(dim='xh')*111000\n",
    "dy = dy_wide.yh.isel.sel(yh=slice(-30,71)).diff(dim='yh')*np.cos(np.deg2rad(dy_wide.yh.sel(yh=slice(-30,71))))*111000\n",
    "\n",
    "salt_tend_xint = (dy_wide.Sh_tendency_2d.sel(xh=slice(211,360)).sel(yh=slice(-30,71))*dx).sum(dim='xh')\n",
    "total_salt_tend = (salt_tend_xint*dy).sum(dim='yh')\n",
    "\n",
    "total_salt_tend"
   ]
  },
  {
   "cell_type": "code",
   "execution_count": 7,
   "metadata": {},
   "outputs": [
    {
     "data": {
      "text/html": [
       "<pre>&lt;xarray.Dataset&gt;\n",
       "Dimensions:                            (nv: 2, time: 3, xh: 180, xq: 180, yh: 81, yq: 81, zl: 31)\n",
       "Coordinates:\n",
       "  * xh                                 (xh) float64 1.0 3.0 5.0 ... 357.0 359.0\n",
       "  * yh                                 (yh) float64 -80.0 -78.0 ... 78.0 80.0\n",
       "  * time                               (time) object 2800-07-02 12:00:00 ... 2802-07-02 12:00:00\n",
       "  * nv                                 (nv) float64 1.0 2.0\n",
       "  * zl                                 (zl) float64 2.5 10.0 ... 4e+03 4.625e+03\n",
       "  * xq                                 (xq) float64 2.0 4.0 6.0 ... 358.0 360.0\n",
       "  * yq                                 (yq) float64 -79.0 -77.0 ... 79.0 81.0\n",
       "Data variables:\n",
       "    pbo                                (time, yh, xh) float32 ...\n",
       "    pso                                (time, yh, xh) float32 ...\n",
       "    masscello                          (time, zl, yh, xh) float32 ...\n",
       "    thkcello                           (time, zl, yh, xh) float32 ...\n",
       "    zos                                (time, yh, xh) float32 ...\n",
       "    zossq                              (time, yh, xh) float32 ...\n",
       "    thetao                             (time, zl, yh, xh) float32 ...\n",
       "    tos                                (time, yh, xh) float32 ...\n",
       "    Sh_tendency_2d                     (time, yh, xh) float32 ...\n",
       "    S_advection_xy_2d                  (time, yh, xh) float32 ...\n",
       "    S_dfxy_cont_tendency_2d            (time, yh, xh) float32 ...\n",
       "    boundary_forcing_salt_tendency_2d  (time, yh, xh) float32 ...\n",
       "    tossq                              (time, yh, xh) float32 ...\n",
       "    tob                                (time, yh, xh) float32 ...\n",
       "    so                                 (time, zl, yh, xh) float32 ...\n",
       "    sos                                (time, yh, xh) float32 ...\n",
       "    sossq                              (time, yh, xh) float32 ...\n",
       "    sob                                (time, yh, xh) float32 ...\n",
       "    mlotst                             (time, yh, xh) float32 ...\n",
       "    mlotstsq                           (time, yh, xh) float32 ...\n",
       "    mlotstmin                          (time, yh, xh) float32 ...\n",
       "    mlotstmax                          (time, yh, xh) float32 ...\n",
       "    uo                                 (time, zl, yh, xq) float32 ...\n",
       "    vo                                 (time, zl, yq, xh) float32 ...\n",
       "    uhml                               (time, zl, yh, xq) float32 ...\n",
       "    vhml                               (time, zl, yq, xh) float32 ...\n",
       "    average_T1                         (time) object ...\n",
       "    average_T2                         (time) object ...\n",
       "    average_DT                         (time) timedelta64[ns] ...\n",
       "    time_bnds                          (time, nv) timedelta64[ns] ...\n",
       "Attributes:\n",
       "    filename:          28000101.ocean_annual.nc\n",
       "    title:             Aquaplanet\n",
       "    associated_files:  areacello: 28000101.ocean_static.nc\n",
       "    grid_type:         regular\n",
       "    grid_tile:         N/A</pre>"
      ],
      "text/plain": [
       "<xarray.Dataset>\n",
       "Dimensions:                            (nv: 2, time: 3, xh: 180, xq: 180, yh: 81, yq: 81, zl: 31)\n",
       "Coordinates:\n",
       "  * xh                                 (xh) float64 1.0 3.0 5.0 ... 357.0 359.0\n",
       "  * yh                                 (yh) float64 -80.0 -78.0 ... 78.0 80.0\n",
       "  * time                               (time) object 2800-07-02 12:00:00 ... 2802-07-02 12:00:00\n",
       "  * nv                                 (nv) float64 1.0 2.0\n",
       "  * zl                                 (zl) float64 2.5 10.0 ... 4e+03 4.625e+03\n",
       "  * xq                                 (xq) float64 2.0 4.0 6.0 ... 358.0 360.0\n",
       "  * yq                                 (yq) float64 -79.0 -77.0 ... 79.0 81.0\n",
       "Data variables:\n",
       "    pbo                                (time, yh, xh) float32 ...\n",
       "    pso                                (time, yh, xh) float32 ...\n",
       "    masscello                          (time, zl, yh, xh) float32 ...\n",
       "    thkcello                           (time, zl, yh, xh) float32 ...\n",
       "    zos                                (time, yh, xh) float32 ...\n",
       "    zossq                              (time, yh, xh) float32 ...\n",
       "    thetao                             (time, zl, yh, xh) float32 ...\n",
       "    tos                                (time, yh, xh) float32 ...\n",
       "    Sh_tendency_2d                     (time, yh, xh) float32 ...\n",
       "    S_advection_xy_2d                  (time, yh, xh) float32 ...\n",
       "    S_dfxy_cont_tendency_2d            (time, yh, xh) float32 ...\n",
       "    boundary_forcing_salt_tendency_2d  (time, yh, xh) float32 ...\n",
       "    tossq                              (time, yh, xh) float32 ...\n",
       "    tob                                (time, yh, xh) float32 ...\n",
       "    so                                 (time, zl, yh, xh) float32 ...\n",
       "    sos                                (time, yh, xh) float32 ...\n",
       "    sossq                              (time, yh, xh) float32 ...\n",
       "    sob                                (time, yh, xh) float32 ...\n",
       "    mlotst                             (time, yh, xh) float32 ...\n",
       "    mlotstsq                           (time, yh, xh) float32 ...\n",
       "    mlotstmin                          (time, yh, xh) float32 ...\n",
       "    mlotstmax                          (time, yh, xh) float32 ...\n",
       "    uo                                 (time, zl, yh, xq) float32 ...\n",
       "    vo                                 (time, zl, yq, xh) float32 ...\n",
       "    uhml                               (time, zl, yh, xq) float32 ...\n",
       "    vhml                               (time, zl, yq, xh) float32 ...\n",
       "    average_T1                         (time) object ...\n",
       "    average_T2                         (time) object ...\n",
       "    average_DT                         (time) timedelta64[ns] ...\n",
       "    time_bnds                          (time, nv) timedelta64[ns] ...\n",
       "Attributes:\n",
       "    filename:          28000101.ocean_annual.nc\n",
       "    title:             Aquaplanet\n",
       "    associated_files:  areacello: 28000101.ocean_static.nc\n",
       "    grid_type:         regular\n",
       "    grid_tile:         N/A"
      ]
     },
     "execution_count": 7,
     "metadata": {},
     "output_type": "execute_result"
    }
   ],
   "source": [
    "dy_wide"
   ]
  },
  {
   "cell_type": "code",
   "execution_count": null,
   "metadata": {},
   "outputs": [],
   "source": []
  }
 ],
 "metadata": {
  "kernelspec": {
   "display_name": "Python 3",
   "language": "python",
   "name": "python3"
  },
  "language_info": {
   "codemirror_mode": {
    "name": "ipython",
    "version": 3
   },
   "file_extension": ".py",
   "mimetype": "text/x-python",
   "name": "python",
   "nbconvert_exporter": "python",
   "pygments_lexer": "ipython3",
   "version": "3.7.6"
  }
 },
 "nbformat": 4,
 "nbformat_minor": 2
}
