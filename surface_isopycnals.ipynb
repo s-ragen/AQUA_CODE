{
 "cells": [
  {
   "cell_type": "code",
   "execution_count": 1,
   "metadata": {},
   "outputs": [
    {
     "name": "stderr",
     "output_type": "stream",
     "text": [
      "/home/sragen/.conda/envs/aqua/lib/python3.7/site-packages/xarray/coding/times.py:426: SerializationWarning: Unable to decode time axis into full numpy.datetime64 objects, continuing using cftime.datetime objects instead, reason: dates out of range\n",
      "  dtype = _decode_cf_datetime_dtype(data, units, calendar, self.use_cftime)\n"
     ]
    }
   ],
   "source": [
    "import xarray as xr\n",
    "import numpy as np\n",
    "import matplotlib.pyplot as plt\n",
    "import cartopy.crs as ccrs\n",
    "import warnings\n",
    "import gsw\n",
    "\n",
    "#=================================================\n",
    "# Modify paths to point to output files\n",
    "#=================================================\n",
    "# Case name (Straight Coast)\n",
    "case_straight = 'Straight Coast'\n",
    "\n",
    "# path to ocean_annual file\n",
    "path_year_straight = '/data/sragen/aquaplanet/MASTERS/straight_coast/run/DATA/1000yr/28000101.ocean_annual.nc'\n",
    "dy_straight = xr.open_dataset(path_year_straight, decode_times=True)\n",
    "\n",
    "# path to ocean_annual_rho2 file\n",
    "path_rho2_straight = '/data/sragen/aquaplanet/MASTERS/straight_coast/run/DATA/1000yr/28000101.ocean_annual_rho2.nc'\n",
    "drho_straight = xr.open_dataset(path_rho2_straight, decode_times=True)\n",
    "\n",
    "# path to ocean_annual_z file\n",
    "path_z_straight = '/data/sragen/aquaplanet/MASTERS/straight_coast/run/DATA/1000yr/28000101.ocean_annual_z.nc'\n",
    "dz_straight = xr.open_dataset(path_z_straight, decode_times=True)\n",
    "\n",
    "\n",
    "\n",
    "# Case name (Both Coast)\n",
    "case_both = 'Both Coast'\n",
    "\n",
    "# path to ocean_annual file\n",
    "path_year_both = '/data/sragen/aquaplanet/MASTERS/both_coast/run/DATA/1000yr/28000101.ocean_annual.nc'\n",
    "dy_both = xr.open_dataset(path_year_both, decode_times=True)\n",
    "\n",
    "# path to ocean_annual_rho2 file\n",
    "path_rho2_both = '/data/sragen/aquaplanet/MASTERS/both_coast/run/DATA/1000yr/28000101.ocean_annual_rho2.nc'\n",
    "drho_both = xr.open_dataset(path_rho2_both, decode_times=True)\n",
    "\n",
    "# path to ocean_annual_z file\n",
    "path_z_both = '/data/sragen/aquaplanet/MASTERS/both_coast/run/DATA/1000yr/28000101.ocean_annual_z.nc'\n",
    "dz_both = xr.open_dataset(path_z_both, decode_times=True)\n",
    "\n",
    "\n",
    "\n",
    "# Case name (Wide Coast)\n",
    "case_wide = 'Wide Coast'\n",
    "\n",
    "# path to ocean_annual file\n",
    "path_year_wide = '/data/sragen/aquaplanet/MASTERS/wide_straight/run/DATA/1000yr/28000101.ocean_annual.nc'\n",
    "dy_wide = xr.open_dataset(path_year_wide, decode_times=True)\n",
    "\n",
    "# path to ocean_annual_rho2 file\n",
    "path_rho2_wide = '/data/sragen/aquaplanet/MASTERS/wide_straight/run/DATA/1000yr/28000101.ocean_annual_rho2.nc'\n",
    "drho_wide = xr.open_dataset(path_rho2_wide, decode_times=True)\n",
    "\n",
    "# path to ocean_annual_z file\n",
    "path_z_wide = '/data/sragen/aquaplanet/MASTERS/wide_straight/run/DATA/1000yr/28000101.ocean_annual_z.nc'\n",
    "dz_wide = xr.open_dataset(path_z_wide, decode_times=True)\n",
    "\n",
    "\n",
    "\n",
    "# Case name (America Coast)\n",
    "case_am = 'America Coast'\n",
    "\n",
    "# path to ocean_annual file\n",
    "path_year_am = '/data/sragen/aquaplanet/MASTERS/am_coast/run/DATA/1000yr/28000101.ocean_annual.nc'\n",
    "dy_am = xr.open_dataset(path_year_am, decode_times=True)\n",
    "\n",
    "# path to ocean_annual_rho2 file\n",
    "path_rho2_am = '/data/sragen/aquaplanet/MASTERS/am_coast/run/DATA/1000yr/28000101.ocean_annual_rho2.nc'\n",
    "drho_am = xr.open_dataset(path_rho2_am, decode_times=True)\n",
    "\n",
    "# path to ocean_annual_z file\n",
    "path_z_am = '/data/sragen/aquaplanet/MASTERS/am_coast/run/DATA/1000yr/28000101.ocean_annual_z.nc'\n",
    "dz_am = xr.open_dataset(path_z_am, decode_times=True)\n",
    "\n",
    "\n",
    "\n",
    "# Case name (Africa Coast)\n",
    "case_af = 'Africa Coast'\n",
    "\n",
    "# path to ocean_annual file\n",
    "path_year_af = '/data/sragen/aquaplanet/MASTERS/af_coast/run/DATA/1000yr/28000101.ocean_annual.nc'\n",
    "dy_af = xr.open_dataset(path_year_af, decode_times=True)\n",
    "\n",
    "# path to ocean_annual_rho2 file\n",
    "path_rho2_af = '/data/sragen/aquaplanet/MASTERS/af_coast/run/DATA/1000yr/28000101.ocean_annual_rho2.nc'\n",
    "drho_af = xr.open_dataset(path_rho2_af, decode_times=True)\n",
    "\n",
    "# path to ocean_annual_z file\n",
    "path_z_af = '/data/sragen/aquaplanet/MASTERS/af_coast/run/DATA/1000yr/28000101.ocean_annual_z.nc'\n",
    "dz_af = xr.open_dataset(path_z_af, decode_times=True)\n",
    "\n",
    "\n",
    "\n",
    "#=================================================\n",
    "# Ignore runtime warnings: mean of empty slice\n",
    "#=================================================\n",
    "warnings.filterwarnings(\"ignore\", message=\"Mean of empty slice\")\n",
    "\n",
    "#=================================================\n",
    "# Modify latitudes to point to western and eastern\n",
    "# boundaries of small basin and northern extent of SO.\n",
    "# Comment out for AQUA and RIDGE cases. \n",
    "#=================================================\n",
    "x_west = np.where(dy_both['xh']==211)[0][0]\n",
    "x_east = np.where(dy_both['xh']==351)[0][0]\n",
    "y = np.where(dy_both['yq']==-35)[0][0]\n",
    "y_south = np.where(dy_both['yq']==-71)[0][0]\n",
    "y_north = np.where(dy_both['yq']==71)[0][0]\n",
    "\n"
   ]
  },
  {
   "cell_type": "code",
   "execution_count": 38,
   "metadata": {},
   "outputs": [
    {
     "name": "stderr",
     "output_type": "stream",
     "text": [
      "/home/sragen/.conda/envs/aqua/lib/python3.7/site-packages/ipykernel_launcher.py:7: UserWarning: No contour levels were found within the data range.\n",
      "  import sys\n",
      "/home/sragen/.conda/envs/aqua/lib/python3.7/site-packages/ipykernel_launcher.py:7: UserWarning: The following kwargs were not used by contour: 'linewidth'\n",
      "  import sys\n"
     ]
    },
    {
     "data": {
      "image/png": "[encoded data removed]",
      "text/plain": [
       "<Figure size 432x288 with 1 Axes>"
      ]
     },
     "metadata": {
      "needs_background": "light"
     },
     "output_type": "display_data"
    },
    {
     "name": "stdout",
     "output_type": "stream",
     "text": [
      "<xarray.DataArray 'rho2_l' ()>\n",
      "array(1033.625)\n",
      "Coordinates:\n",
      "    rho2_l   float64 1.034e+03\n",
      "Attributes:\n",
      "    long_name:       Target Potential Density at cell center\n",
      "    units:           kg m-3\n",
      "    cartesian_axis:  Z\n",
      "    positive:        down\n"
     ]
    }
   ],
   "source": [
    "sss = dy_straight['sos'].mean(dim='time')\n",
    "mask = np.zeros(sss.shape, dtype=bool)\n",
    "mask = np.where(~np.isnan(sss), mask, 1)\n",
    "\n",
    "i = 13\n",
    "\n",
    "plt.contour(drho_straight.h.isel(rho2_l=i).mean(dim='time'), levels=[0], linewidth=3)\n",
    "plt.contour(mask, [0.01], colors=\"gray\")\n",
    "\n",
    "plt.show()\n",
    "\n",
    "print(drho_straight.rho2_l.isel(rho2_l=i))"
   ]
  },
  {
   "cell_type": "code",
   "execution_count": 41,
   "metadata": {},
   "outputs": [
    {
     "name": "stderr",
     "output_type": "stream",
     "text": [
      "/home/sragen/.conda/envs/aqua/lib/python3.7/site-packages/ipykernel_launcher.py:7: UserWarning: No contour levels were found within the data range.\n",
      "  import sys\n",
      "/home/sragen/.conda/envs/aqua/lib/python3.7/site-packages/ipykernel_launcher.py:7: UserWarning: The following kwargs were not used by contour: 'linewidth'\n",
      "  import sys\n"
     ]
    },
    {
     "data": {
      "image/png": "[encoded data removed]",
      "text/plain": [
       "<Figure size 432x288 with 1 Axes>"
      ]
     },
     "metadata": {
      "needs_background": "light"
     },
     "output_type": "display_data"
    },
    {
     "name": "stdout",
     "output_type": "stream",
     "text": [
      "<xarray.DataArray 'rho2_l' ()>\n",
      "array(1033.625)\n",
      "Coordinates:\n",
      "    rho2_l   float64 1.034e+03\n",
      "Attributes:\n",
      "    long_name:       Target Potential Density at cell center\n",
      "    units:           kg m-3\n",
      "    cartesian_axis:  Z\n",
      "    positive:        down\n"
     ]
    }
   ],
   "source": [
    "sss = dy_wide['sos'].mean(dim='time')\n",
    "mask = np.zeros(sss.shape, dtype=bool)\n",
    "mask = np.where(~np.isnan(sss), mask, 1)\n",
    "\n",
    "i = 13\n",
    "\n",
    "plt.contour(drho_wide.h.isel(rho2_l=i).mean(dim='time'), levels=[0], linewidth=3)\n",
    "plt.contour(mask, [0.01], colors=\"gray\")\n",
    "\n",
    "plt.show()\n",
    "\n",
    "print(drho_wide.rho2_l.isel(rho2_l=i))"
   ]
  },
  {
   "cell_type": "code",
   "execution_count": 44,
   "metadata": {},
   "outputs": [
    {
     "name": "stderr",
     "output_type": "stream",
     "text": [
      "/home/sragen/.conda/envs/aqua/lib/python3.7/site-packages/ipykernel_launcher.py:7: UserWarning: No contour levels were found within the data range.\n",
      "  import sys\n",
      "/home/sragen/.conda/envs/aqua/lib/python3.7/site-packages/ipykernel_launcher.py:7: UserWarning: The following kwargs were not used by contour: 'linewidth'\n",
      "  import sys\n"
     ]
    },
    {
     "data": {
      "image/png": "[encoded data removed]",
      "text/plain": [
       "<Figure size 432x288 with 1 Axes>"
      ]
     },
     "metadata": {
      "needs_background": "light"
     },
     "output_type": "display_data"
    },
    {
     "name": "stdout",
     "output_type": "stream",
     "text": [
      "<xarray.DataArray 'rho2_l' ()>\n",
      "array(1033.625)\n",
      "Coordinates:\n",
      "    rho2_l   float64 1.034e+03\n",
      "Attributes:\n",
      "    long_name:       Target Potential Density at cell center\n",
      "    units:           kg m-3\n",
      "    cartesian_axis:  Z\n",
      "    positive:        down\n"
     ]
    }
   ],
   "source": [
    "sss = dy_both['sos'].mean(dim='time')\n",
    "mask = np.zeros(sss.shape, dtype=bool)\n",
    "mask = np.where(~np.isnan(sss), mask, 1)\n",
    "\n",
    "i = 13\n",
    "\n",
    "plt.contour(drho_both.h.isel(rho2_l=i).mean(dim='time'), levels=[0], linewidth=3)\n",
    "plt.contour(mask, [0.01], colors=\"gray\")\n",
    "\n",
    "plt.show()\n",
    "\n",
    "print(drho_both.rho2_l.isel(rho2_l=i))"
   ]
  },
  {
   "cell_type": "code",
   "execution_count": 48,
   "metadata": {},
   "outputs": [
    {
     "name": "stderr",
     "output_type": "stream",
     "text": [
      "/home/sragen/.conda/envs/aqua/lib/python3.7/site-packages/ipykernel_launcher.py:7: UserWarning: No contour levels were found within the data range.\n",
      "  import sys\n",
      "/home/sragen/.conda/envs/aqua/lib/python3.7/site-packages/ipykernel_launcher.py:7: UserWarning: The following kwargs were not used by contour: 'linewidth'\n",
      "  import sys\n"
     ]
    },
    {
     "data": {
      "image/png": "[encoded data removed]",
      "text/plain": [
       "<Figure size 432x288 with 1 Axes>"
      ]
     },
     "metadata": {
      "needs_background": "light"
     },
     "output_type": "display_data"
    },
    {
     "name": "stdout",
     "output_type": "stream",
     "text": [
      "<xarray.DataArray 'rho2_l' ()>\n",
      "array(1033.625)\n",
      "Coordinates:\n",
      "    rho2_l   float64 1.034e+03\n",
      "Attributes:\n",
      "    long_name:       Target Potential Density at cell center\n",
      "    units:           kg m-3\n",
      "    cartesian_axis:  Z\n",
      "    positive:        down\n"
     ]
    }
   ],
   "source": [
    "sss = dy_am['sos'].mean(dim='time')\n",
    "mask = np.zeros(sss.shape, dtype=bool)\n",
    "mask = np.where(~np.isnan(sss), mask, 1)\n",
    "\n",
    "i = 13\n",
    "\n",
    "plt.contour(drho_am.h.isel(rho2_l=i).mean(dim='time'), levels=[0], linewidth=3)\n",
    "plt.contour(mask, [0.01], colors=\"gray\")\n",
    "\n",
    "plt.show()\n",
    "\n",
    "print(drho_am.rho2_l.isel(rho2_l=i))"
   ]
  },
  {
   "cell_type": "code",
   "execution_count": 50,
   "metadata": {},
   "outputs": [
    {
     "name": "stderr",
     "output_type": "stream",
     "text": [
      "/home/sragen/.conda/envs/aqua/lib/python3.7/site-packages/ipykernel_launcher.py:7: UserWarning: No contour levels were found within the data range.\n",
      "  import sys\n",
      "/home/sragen/.conda/envs/aqua/lib/python3.7/site-packages/ipykernel_launcher.py:7: UserWarning: The following kwargs were not used by contour: 'linewidth'\n",
      "  import sys\n"
     ]
    },
    {
     "data": {
      "image/png": "[encoded data removed]",
      "text/plain": [
       "<Figure size 432x288 with 1 Axes>"
      ]
     },
     "metadata": {
      "needs_background": "light"
     },
     "output_type": "display_data"
    },
    {
     "name": "stdout",
     "output_type": "stream",
     "text": [
      "<xarray.DataArray 'rho2_l' ()>\n",
      "array(1033.625)\n",
      "Coordinates:\n",
      "    rho2_l   float64 1.034e+03\n",
      "Attributes:\n",
      "    long_name:       Target Potential Density at cell center\n",
      "    units:           kg m-3\n",
      "    cartesian_axis:  Z\n",
      "    positive:        down\n"
     ]
    }
   ],
   "source": [
    "sss = dy_af['sos'].mean(dim='time')\n",
    "mask = np.zeros(sss.shape, dtype=bool)\n",
    "mask = np.where(~np.isnan(sss), mask, 1)\n",
    "\n",
    "i = 13\n",
    "\n",
    "plt.contour(drho_af.h.isel(rho2_l=i).mean(dim='time'), levels=[0], linewidth=3)\n",
    "plt.contour(mask, [0.01], colors=\"gray\")\n",
    "\n",
    "plt.show()\n",
    "\n",
    "print(drho_af.rho2_l.isel(rho2_l=i))"
   ]
  },
  {
   "cell_type": "code",
   "execution_count": null,
   "metadata": {},
   "outputs": [],
   "source": []
  }
 ],
 "metadata": {
  "kernelspec": {
   "display_name": "Python 3",
   "language": "python",
   "name": "python3"
  },
  "language_info": {
   "codemirror_mode": {
    "name": "ipython",
    "version": 3
   },
   "file_extension": ".py",
   "mimetype": "text/x-python",
   "name": "python",
   "nbconvert_exporter": "python",
   "pygments_lexer": "ipython3",
   "version": "3.7.6"
  }
 },
 "nbformat": 4,
 "nbformat_minor": 2
}
