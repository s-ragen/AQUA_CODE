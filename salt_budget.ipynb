{
 "cells": [
  {
   "cell_type": "code",
   "execution_count": 1,
   "metadata": {},
   "outputs": [
    {
     "name": "stderr",
     "output_type": "stream",
     "text": [
      "/home/sragen/.conda/envs/aqua/lib/python3.7/site-packages/xarray/coding/times.py:426: SerializationWarning: Unable to decode time axis into full numpy.datetime64 objects, continuing using cftime.datetime objects instead, reason: dates out of range\n",
      "  dtype = _decode_cf_datetime_dtype(data, units, calendar, self.use_cftime)\n"
     ]
    }
   ],
   "source": [
    "import xarray as xr\n",
    "import numpy as np\n",
    "import matplotlib.pyplot as plt\n",
    "import cartopy.crs as ccrs\n",
    "import warnings\n",
    "\n",
    "\n",
    "#=================================================\n",
    "# Modify paths to point to output files\n",
    "#=================================================\n",
    "# Case name (Wide Straight)\n",
    "case_wide = 'Wide Straight'\n",
    "\n",
    "# path to ocean_annual file\n",
    "path_year_wide = '/data/sragen/aquaplanet/MASTERS/wide_straight/run/28000101.ocean_annual.nc'\n",
    "dy_wide = xr.open_dataset(path_year_wide, decode_times=True)\n",
    "# static_wide = xr.open_dataset('/data/sragen/aquaplanet/MASTERS/wide_straight/run/28000101.ocean_static.nc', \n",
    "#                               decode_times=True)\n",
    "\n",
    "#=================================================\n",
    "# Modify latitudes to point to western and eastern\n",
    "# boundaries of small basin and northern extent of SO.\n",
    "# Comment out for AQUA and RIDGE cases. \n",
    "#=================================================\n",
    "x_west = np.where(dy_wide['xh']==211)[0][0]\n",
    "x_east = np.where(dy_wide['xh']==351)[0][0]\n",
    "y = np.where(dy_wide['yq']==-35)[0][0]\n",
    "y_south = np.where(dy_wide['yq']==-71)[0][0]\n",
    "y_north = np.where(dy_wide['yq']==71)[0][0]\n"
   ]
  },
  {
   "cell_type": "markdown",
   "metadata": {},
   "source": [
    "Salt Budget\n",
    "\n",
    "Sh_tendency_2d = S_advection_xy_2d + S_dfxy_cont_tendency_2d + boundary_forcing_salt_tendency_2d\n",
    "\n",
    "Or something..."
   ]
  },
  {
   "cell_type": "code",
   "execution_count": 10,
   "metadata": {},
   "outputs": [
    {
     "data": {
      "text/html": [
       "<pre>&lt;xarray.DataArray &#x27;Sh_tendency_2d&#x27; (time: 10)&gt;\n",
       "array([ 1.3351427e-04,  3.5500855e-04, -3.7719496e-04, -3.2488289e-04,\n",
       "        3.8886361e-04,  7.1003160e-05, -5.2396616e-04,  1.6182934e-05,\n",
       "        4.0914398e-04, -2.7742225e-04], dtype=float32)\n",
       "Coordinates:\n",
       "  * time     (time) object 2800-07-02 12:00:00 ... 2809-07-02 12:00:00</pre>"
      ],
      "text/plain": [
       "<xarray.DataArray 'Sh_tendency_2d' (time: 10)>\n",
       "array([ 1.3351427e-04,  3.5500855e-04, -3.7719496e-04, -3.2488289e-04,\n",
       "        3.8886361e-04,  7.1003160e-05, -5.2396616e-04,  1.6182934e-05,\n",
       "        4.0914398e-04, -2.7742225e-04], dtype=float32)\n",
       "Coordinates:\n",
       "  * time     (time) object 2800-07-02 12:00:00 ... 2809-07-02 12:00:00"
      ]
     },
     "execution_count": 10,
     "metadata": {},
     "output_type": "execute_result"
    }
   ],
   "source": [
    "dx = dy_wide.xh.sel(xh=slice(211,360)).diff(dim='xh')*111000\n",
    "dy = dy_wide.yh.sel(yh=slice(-30,71)).diff(dim='yh')*np.cos(np.deg2rad(dy_wide.yh.sel(yh=slice(-30,71))))*111000\n",
    "\n",
    "salt_tend_xint = (dy_wide.Sh_tendency_2d.sel(xh=slice(211,360)).sel(yh=slice(-30,71))*dx).sum(dim='xh')\n",
    "total_salt_tend = (salt_tend_xint*dy).sum(dim='yh')\n",
    "\n",
    "# salt_tend_xint = (dy_wide.Sh_tendency_2d.sel(xh=slice(211,360)).sel(yh=slice(-30,71))).sum(dim='xh')\n",
    "# total_salt_tend = (salt_tend_xint).sum(dim='yh')\n",
    "\n",
    "total_salt_tend"
   ]
  },
  {
   "cell_type": "code",
   "execution_count": 20,
   "metadata": {},
   "outputs": [
    {
     "data": {
      "text/html": [
       "<pre>&lt;xarray.DataArray (time: 10)&gt;\n",
       "array([-2.94846009, -5.21864466, -0.71941956, -0.13846509, -4.84826454,\n",
       "       -3.67474601,  0.59583406, -2.16395435, -5.41471212, -1.43070459])\n",
       "Coordinates:\n",
       "    yh       float64 -30.0\n",
       "  * time     (time) object 2800-07-02 12:00:00 ... 2809-07-02 12:00:00</pre>"
      ],
      "text/plain": [
       "<xarray.DataArray (time: 10)>\n",
       "array([-2.94846009, -5.21864466, -0.71941956, -0.13846509, -4.84826454,\n",
       "       -3.67474601,  0.59583406, -2.16395435, -5.41471212, -1.43070459])\n",
       "Coordinates:\n",
       "    yh       float64 -30.0\n",
       "  * time     (time) object 2800-07-02 12:00:00 ... 2809-07-02 12:00:00"
      ]
     },
     "execution_count": 20,
     "metadata": {},
     "output_type": "execute_result"
    }
   ],
   "source": [
    "salt_adv = (dy_wide.S_advection_xy_2d.sel(yh=-30, method='nearest').sel(xh=slice(211,360))*dx).sum(dim='xh')\n",
    "\n",
    "salt_adv"
   ]
  },
  {
   "cell_type": "code",
   "execution_count": 21,
   "metadata": {},
   "outputs": [
    {
     "data": {
      "text/html": [
       "<pre>&lt;xarray.DataArray (time: 10)&gt;\n",
       "array([2.2447256 , 2.24413388, 2.24395241, 2.24570473, 2.24534348,\n",
       "       2.24365258, 2.24356601, 2.2448795 , 2.24466009, 2.24457382])\n",
       "Coordinates:\n",
       "    yh       float64 -30.0\n",
       "  * time     (time) object 2800-07-02 12:00:00 ... 2809-07-02 12:00:00</pre>"
      ],
      "text/plain": [
       "<xarray.DataArray (time: 10)>\n",
       "array([2.2447256 , 2.24413388, 2.24395241, 2.24570473, 2.24534348,\n",
       "       2.24365258, 2.24356601, 2.2448795 , 2.24466009, 2.24457382])\n",
       "Coordinates:\n",
       "    yh       float64 -30.0\n",
       "  * time     (time) object 2800-07-02 12:00:00 ... 2809-07-02 12:00:00"
      ]
     },
     "execution_count": 21,
     "metadata": {},
     "output_type": "execute_result"
    }
   ],
   "source": [
    "salt_diff = (dy_wide.S_dfxy_cont_tendency_2d.sel(yh=-30, method='nearest').sel(xh=slice(211,360))*dx).sum(dim='xh')\n",
    "\n",
    "salt_diff"
   ]
  },
  {
   "cell_type": "code",
   "execution_count": 22,
   "metadata": {},
   "outputs": [
    {
     "data": {
      "text/html": [
       "<pre>&lt;xarray.DataArray (time: 10)&gt;\n",
       "array([-1.08634705e-05,  2.75302752e-05,  2.08072829e-05, -4.71419339e-05,\n",
       "       -4.92533351e-05, -3.06562692e-06, -1.38654811e-05, -2.06984528e-05,\n",
       "       -3.60214623e-05,  2.28917919e-05])\n",
       "Coordinates:\n",
       "  * time     (time) object 2800-07-02 12:00:00 ... 2809-07-02 12:00:00</pre>"
      ],
      "text/plain": [
       "<xarray.DataArray (time: 10)>\n",
       "array([-1.08634705e-05,  2.75302752e-05,  2.08072829e-05, -4.71419339e-05,\n",
       "       -4.92533351e-05, -3.06562692e-06, -1.38654811e-05, -2.06984528e-05,\n",
       "       -3.60214623e-05,  2.28917919e-05])\n",
       "Coordinates:\n",
       "  * time     (time) object 2800-07-02 12:00:00 ... 2809-07-02 12:00:00"
      ]
     },
     "execution_count": 22,
     "metadata": {},
     "output_type": "execute_result"
    }
   ],
   "source": [
    "bound_xint = (dy_wide.boundary_forcing_salt_tendency_2d.sel(xh=slice(211,360)).sel(yh=slice(-30,71))*dx).sum(dim='xh')\n",
    "salt_boundary = (bound_xint*dy).sum(dim='yh')\n",
    "\n",
    "salt_boundary"
   ]
  },
  {
   "cell_type": "code",
   "execution_count": 23,
   "metadata": {},
   "outputs": [
    {
     "data": {
      "text/html": [
       "<pre>&lt;xarray.DataArray (time: 10)&gt;\n",
       "array([ 0.70387887,  2.97483825, -1.52493085, -2.10751738,  2.60335918,\n",
       "        1.4311675 , -2.83991018, -0.08088827,  3.17049719, -0.81416955])\n",
       "Coordinates:\n",
       "  * time     (time) object 2800-07-02 12:00:00 ... 2809-07-02 12:00:00\n",
       "    yh       float64 -30.0</pre>"
      ],
      "text/plain": [
       "<xarray.DataArray (time: 10)>\n",
       "array([ 0.70387887,  2.97483825, -1.52493085, -2.10751738,  2.60335918,\n",
       "        1.4311675 , -2.83991018, -0.08088827,  3.17049719, -0.81416955])\n",
       "Coordinates:\n",
       "  * time     (time) object 2800-07-02 12:00:00 ... 2809-07-02 12:00:00\n",
       "    yh       float64 -30.0"
      ]
     },
     "execution_count": 23,
     "metadata": {},
     "output_type": "execute_result"
    }
   ],
   "source": [
    "salt_budget = total_salt_tend - salt_adv - salt_diff - salt_boundary\n",
    "\n",
    "salt_budget"
   ]
  },
  {
   "cell_type": "code",
   "execution_count": 24,
   "metadata": {},
   "outputs": [
    {
     "data": {
      "text/plain": [
       "<matplotlib.legend.Legend at 0x7f65b63a0750>"
      ]
     },
     "execution_count": 24,
     "metadata": {},
     "output_type": "execute_result"
    },
    {
     "data": {
      "image/png": "[encoded data removed]",
      "text/plain": [
       "<Figure size 432x288 with 1 Axes>"
      ]
     },
     "metadata": {
      "needs_background": "light"
     },
     "output_type": "display_data"
    }
   ],
   "source": [
    "plt.plot(total_salt_tend, label='Salt Tendency')\n",
    "plt.plot(salt_adv, label='Advection')\n",
    "plt.plot(salt_diff, label='Diffusion')\n",
    "plt.plot(salt_boundary, label='Boundary Tendency')\n",
    "plt.plot(salt_budget, label='Residual')\n",
    "plt.legend()"
   ]
  },
  {
   "cell_type": "code",
   "execution_count": null,
   "metadata": {},
   "outputs": [],
   "source": [
    "p"
   ]
  }
 ],
 "metadata": {
  "kernelspec": {
   "display_name": "Python 3",
   "language": "python",
   "name": "python3"
  },
  "language_info": {
   "codemirror_mode": {
    "name": "ipython",
    "version": 3
   },
   "file_extension": ".py",
   "mimetype": "text/x-python",
   "name": "python",
   "nbconvert_exporter": "python",
   "pygments_lexer": "ipython3",
   "version": "3.7.6"
  }
 },
 "nbformat": 4,
 "nbformat_minor": 2
}
